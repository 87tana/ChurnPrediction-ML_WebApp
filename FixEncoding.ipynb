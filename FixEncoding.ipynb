{
 "cells": [
  {
   "cell_type": "code",
   "execution_count": 1,
   "id": "38a3c81a",
   "metadata": {},
   "outputs": [
    {
     "name": "stderr",
     "output_type": "stream",
     "text": [
      "2024-10-06 09:43:53.429027: I external/local_xla/xla/tsl/cuda/cudart_stub.cc:32] Could not find cuda drivers on your machine, GPU will not be used.\n",
      "2024-10-06 09:43:53.434256: I external/local_xla/xla/tsl/cuda/cudart_stub.cc:32] Could not find cuda drivers on your machine, GPU will not be used.\n",
      "2024-10-06 09:43:53.450455: E external/local_xla/xla/stream_executor/cuda/cuda_fft.cc:485] Unable to register cuFFT factory: Attempting to register factory for plugin cuFFT when one has already been registered\n",
      "2024-10-06 09:43:53.476719: E external/local_xla/xla/stream_executor/cuda/cuda_dnn.cc:8454] Unable to register cuDNN factory: Attempting to register factory for plugin cuDNN when one has already been registered\n",
      "2024-10-06 09:43:53.484580: E external/local_xla/xla/stream_executor/cuda/cuda_blas.cc:1452] Unable to register cuBLAS factory: Attempting to register factory for plugin cuBLAS when one has already been registered\n",
      "2024-10-06 09:43:53.504378: I tensorflow/core/platform/cpu_feature_guard.cc:210] This TensorFlow binary is optimized to use available CPU instructions in performance-critical operations.\n",
      "To enable the following instructions: AVX2 FMA, in other operations, rebuild TensorFlow with the appropriate compiler flags.\n",
      "2024-10-06 09:43:54.680751: W tensorflow/compiler/tf2tensorrt/utils/py_utils.cc:38] TF-TRT Warning: Could not find TensorRT\n"
     ]
    }
   ],
   "source": [
    "# Data Handling and Analytics\n",
    "import numpy as np\n",
    "import pandas as pd\n",
    "\n",
    "# Data Visualization\n",
    "import plotly.express as px\n",
    "import matplotlib.pyplot as plt\n",
    "import seaborn as sns\n",
    "%matplotlib inline\n",
    "\n",
    "# Data preprocessing\n",
    "from sklearn import preprocessing\n",
    "from sklearn.preprocessing import OneHotEncoder\n",
    "from sklearn.preprocessing import MinMaxScaler\n",
    "from sklearn.model_selection import train_test_split\n",
    "\n",
    "# Model Selection and Evaluation\n",
    "from sklearn import metrics\n",
    "from sklearn.metrics import confusion_matrix\n",
    "from sklearn.model_selection import cross_val_score\n",
    "from sklearn.model_selection import StratifiedShuffleSplit\n",
    "from sklearn.model_selection import StratifiedKFold\n",
    "from sklearn.model_selection import GridSearchCV\n",
    "from sklearn.metrics import classification_report, make_scorer, accuracy_score, roc_auc_score, roc_curve,auc\n",
    "from sklearn.pipeline import Pipeline\n",
    "from sklearn.feature_selection import SelectKBest\n",
    "from sklearn.model_selection import RandomizedSearchCV\n",
    "from sklearn.metrics import make_scorer, f1_score\n",
    "from sklearn.model_selection import cross_val_score\n",
    "from sklearn.metrics import RocCurveDisplay\n",
    "\n",
    "# Imbalance data\n",
    "from imblearn.combine import SMOTEENN, SMOTETomek\n",
    "\n",
    "# Model Building\n",
    "from sklearn.linear_model import LogisticRegression\n",
    "from sklearn.svm import SVC\n",
    "import xgboost as xgb\n",
    "import tensorflow as tf\n",
    "from tensorflow import keras\n",
    "\n",
    "# Deep Learning \n",
    "import sys\n",
    "import keras\n",
    "from keras.models import Sequential  # initialize\n",
    "from keras.layers import Dense  # layers\n",
    "from keras.optimizers import Adam\n",
    "\n",
    "import warnings\n",
    "warnings.filterwarnings('ignore')\n",
    "import pickle\n"
   ]
  },
  {
   "cell_type": "code",
   "execution_count": 2,
   "id": "9a6a984a",
   "metadata": {},
   "outputs": [
    {
     "data": {
      "text/html": [
       "<div>\n",
       "<style scoped>\n",
       "    .dataframe tbody tr th:only-of-type {\n",
       "        vertical-align: middle;\n",
       "    }\n",
       "\n",
       "    .dataframe tbody tr th {\n",
       "        vertical-align: top;\n",
       "    }\n",
       "\n",
       "    .dataframe thead th {\n",
       "        text-align: right;\n",
       "    }\n",
       "</style>\n",
       "<table border=\"1\" class=\"dataframe\">\n",
       "  <thead>\n",
       "    <tr style=\"text-align: right;\">\n",
       "      <th></th>\n",
       "      <th>customerID</th>\n",
       "      <th>gender</th>\n",
       "      <th>SeniorCitizen</th>\n",
       "      <th>Partner</th>\n",
       "      <th>Dependents</th>\n",
       "      <th>tenure</th>\n",
       "      <th>PhoneService</th>\n",
       "      <th>MultipleLines</th>\n",
       "      <th>InternetService</th>\n",
       "      <th>OnlineSecurity</th>\n",
       "      <th>...</th>\n",
       "      <th>DeviceProtection</th>\n",
       "      <th>TechSupport</th>\n",
       "      <th>StreamingTV</th>\n",
       "      <th>StreamingMovies</th>\n",
       "      <th>Contract</th>\n",
       "      <th>PaperlessBilling</th>\n",
       "      <th>PaymentMethod</th>\n",
       "      <th>MonthlyCharges</th>\n",
       "      <th>TotalCharges</th>\n",
       "      <th>Churn</th>\n",
       "    </tr>\n",
       "  </thead>\n",
       "  <tbody>\n",
       "    <tr>\n",
       "      <th>7038</th>\n",
       "      <td>6840-RESVB</td>\n",
       "      <td>Male</td>\n",
       "      <td>0</td>\n",
       "      <td>Yes</td>\n",
       "      <td>Yes</td>\n",
       "      <td>24</td>\n",
       "      <td>Yes</td>\n",
       "      <td>Yes</td>\n",
       "      <td>DSL</td>\n",
       "      <td>Yes</td>\n",
       "      <td>...</td>\n",
       "      <td>Yes</td>\n",
       "      <td>Yes</td>\n",
       "      <td>Yes</td>\n",
       "      <td>Yes</td>\n",
       "      <td>One year</td>\n",
       "      <td>Yes</td>\n",
       "      <td>Mailed check</td>\n",
       "      <td>84.80</td>\n",
       "      <td>1990.5</td>\n",
       "      <td>No</td>\n",
       "    </tr>\n",
       "    <tr>\n",
       "      <th>7039</th>\n",
       "      <td>2234-XADUH</td>\n",
       "      <td>Female</td>\n",
       "      <td>0</td>\n",
       "      <td>Yes</td>\n",
       "      <td>Yes</td>\n",
       "      <td>72</td>\n",
       "      <td>Yes</td>\n",
       "      <td>Yes</td>\n",
       "      <td>Fiber optic</td>\n",
       "      <td>No</td>\n",
       "      <td>...</td>\n",
       "      <td>Yes</td>\n",
       "      <td>No</td>\n",
       "      <td>Yes</td>\n",
       "      <td>Yes</td>\n",
       "      <td>One year</td>\n",
       "      <td>Yes</td>\n",
       "      <td>Credit card (automatic)</td>\n",
       "      <td>103.20</td>\n",
       "      <td>7362.9</td>\n",
       "      <td>No</td>\n",
       "    </tr>\n",
       "    <tr>\n",
       "      <th>7040</th>\n",
       "      <td>4801-JZAZL</td>\n",
       "      <td>Female</td>\n",
       "      <td>0</td>\n",
       "      <td>Yes</td>\n",
       "      <td>Yes</td>\n",
       "      <td>11</td>\n",
       "      <td>No</td>\n",
       "      <td>No phone service</td>\n",
       "      <td>DSL</td>\n",
       "      <td>Yes</td>\n",
       "      <td>...</td>\n",
       "      <td>No</td>\n",
       "      <td>No</td>\n",
       "      <td>No</td>\n",
       "      <td>No</td>\n",
       "      <td>Month-to-month</td>\n",
       "      <td>Yes</td>\n",
       "      <td>Electronic check</td>\n",
       "      <td>29.60</td>\n",
       "      <td>346.45</td>\n",
       "      <td>No</td>\n",
       "    </tr>\n",
       "    <tr>\n",
       "      <th>7041</th>\n",
       "      <td>8361-LTMKD</td>\n",
       "      <td>Male</td>\n",
       "      <td>1</td>\n",
       "      <td>Yes</td>\n",
       "      <td>No</td>\n",
       "      <td>4</td>\n",
       "      <td>Yes</td>\n",
       "      <td>Yes</td>\n",
       "      <td>Fiber optic</td>\n",
       "      <td>No</td>\n",
       "      <td>...</td>\n",
       "      <td>No</td>\n",
       "      <td>No</td>\n",
       "      <td>No</td>\n",
       "      <td>No</td>\n",
       "      <td>Month-to-month</td>\n",
       "      <td>Yes</td>\n",
       "      <td>Mailed check</td>\n",
       "      <td>74.40</td>\n",
       "      <td>306.6</td>\n",
       "      <td>Yes</td>\n",
       "    </tr>\n",
       "    <tr>\n",
       "      <th>7042</th>\n",
       "      <td>3186-AJIEK</td>\n",
       "      <td>Male</td>\n",
       "      <td>0</td>\n",
       "      <td>No</td>\n",
       "      <td>No</td>\n",
       "      <td>66</td>\n",
       "      <td>Yes</td>\n",
       "      <td>No</td>\n",
       "      <td>Fiber optic</td>\n",
       "      <td>Yes</td>\n",
       "      <td>...</td>\n",
       "      <td>Yes</td>\n",
       "      <td>Yes</td>\n",
       "      <td>Yes</td>\n",
       "      <td>Yes</td>\n",
       "      <td>Two year</td>\n",
       "      <td>Yes</td>\n",
       "      <td>Bank transfer (automatic)</td>\n",
       "      <td>105.65</td>\n",
       "      <td>6844.5</td>\n",
       "      <td>No</td>\n",
       "    </tr>\n",
       "  </tbody>\n",
       "</table>\n",
       "<p>5 rows × 21 columns</p>\n",
       "</div>"
      ],
      "text/plain": [
       "      customerID  gender  SeniorCitizen Partner Dependents  tenure  \\\n",
       "7038  6840-RESVB    Male              0     Yes        Yes      24   \n",
       "7039  2234-XADUH  Female              0     Yes        Yes      72   \n",
       "7040  4801-JZAZL  Female              0     Yes        Yes      11   \n",
       "7041  8361-LTMKD    Male              1     Yes         No       4   \n",
       "7042  3186-AJIEK    Male              0      No         No      66   \n",
       "\n",
       "     PhoneService     MultipleLines InternetService OnlineSecurity  ...  \\\n",
       "7038          Yes               Yes             DSL            Yes  ...   \n",
       "7039          Yes               Yes     Fiber optic             No  ...   \n",
       "7040           No  No phone service             DSL            Yes  ...   \n",
       "7041          Yes               Yes     Fiber optic             No  ...   \n",
       "7042          Yes                No     Fiber optic            Yes  ...   \n",
       "\n",
       "     DeviceProtection TechSupport StreamingTV StreamingMovies        Contract  \\\n",
       "7038              Yes         Yes         Yes             Yes        One year   \n",
       "7039              Yes          No         Yes             Yes        One year   \n",
       "7040               No          No          No              No  Month-to-month   \n",
       "7041               No          No          No              No  Month-to-month   \n",
       "7042              Yes         Yes         Yes             Yes        Two year   \n",
       "\n",
       "     PaperlessBilling              PaymentMethod MonthlyCharges  TotalCharges  \\\n",
       "7038              Yes               Mailed check          84.80        1990.5   \n",
       "7039              Yes    Credit card (automatic)         103.20        7362.9   \n",
       "7040              Yes           Electronic check          29.60        346.45   \n",
       "7041              Yes               Mailed check          74.40         306.6   \n",
       "7042              Yes  Bank transfer (automatic)         105.65        6844.5   \n",
       "\n",
       "     Churn  \n",
       "7038    No  \n",
       "7039    No  \n",
       "7040    No  \n",
       "7041   Yes  \n",
       "7042    No  \n",
       "\n",
       "[5 rows x 21 columns]"
      ]
     },
     "execution_count": 2,
     "metadata": {},
     "output_type": "execute_result"
    }
   ],
   "source": [
    "# Import Data\n",
    "df = pd.read_csv('WA_Fn-UseC_-Telco-Customer-Churn.csv')\n",
    "df.head()\n",
    "df.tail()"
   ]
  },
  {
   "cell_type": "code",
   "execution_count": 3,
   "id": "79607d4c",
   "metadata": {},
   "outputs": [
    {
     "name": "stdout",
     "output_type": "stream",
     "text": [
      "<class 'pandas.core.frame.DataFrame'>\n",
      "RangeIndex: 7043 entries, 0 to 7042\n",
      "Data columns (total 21 columns):\n",
      " #   Column            Non-Null Count  Dtype  \n",
      "---  ------            --------------  -----  \n",
      " 0   customerID        7043 non-null   object \n",
      " 1   gender            7043 non-null   object \n",
      " 2   SeniorCitizen     7043 non-null   int64  \n",
      " 3   Partner           7043 non-null   object \n",
      " 4   Dependents        7043 non-null   object \n",
      " 5   tenure            7043 non-null   int64  \n",
      " 6   PhoneService      7043 non-null   object \n",
      " 7   MultipleLines     7043 non-null   object \n",
      " 8   InternetService   7043 non-null   object \n",
      " 9   OnlineSecurity    7043 non-null   object \n",
      " 10  OnlineBackup      7043 non-null   object \n",
      " 11  DeviceProtection  7043 non-null   object \n",
      " 12  TechSupport       7043 non-null   object \n",
      " 13  StreamingTV       7043 non-null   object \n",
      " 14  StreamingMovies   7043 non-null   object \n",
      " 15  Contract          7043 non-null   object \n",
      " 16  PaperlessBilling  7043 non-null   object \n",
      " 17  PaymentMethod     7043 non-null   object \n",
      " 18  MonthlyCharges    7043 non-null   float64\n",
      " 19  TotalCharges      7043 non-null   object \n",
      " 20  Churn             7043 non-null   object \n",
      "dtypes: float64(1), int64(2), object(18)\n",
      "memory usage: 1.1+ MB\n"
     ]
    }
   ],
   "source": [
    "df.info()"
   ]
  },
  {
   "cell_type": "code",
   "execution_count": 4,
   "id": "2758ac31-44b6-480b-8061-374307230584",
   "metadata": {},
   "outputs": [
    {
     "data": {
      "text/plain": [
       "array(['Month-to-month', 'One year', 'Two year'], dtype=object)"
      ]
     },
     "execution_count": 4,
     "metadata": {},
     "output_type": "execute_result"
    }
   ],
   "source": [
    "df['Contract'].unique()"
   ]
  },
  {
   "cell_type": "markdown",
   "id": "da37ce15",
   "metadata": {},
   "source": [
    "## 3) Data Pre-processing"
   ]
  },
  {
   "cell_type": "markdown",
   "id": "5a2b0b3a",
   "metadata": {},
   "source": [
    "### 3.1) Drop the unnecessaty column"
   ]
  },
  {
   "cell_type": "code",
   "execution_count": 5,
   "id": "2b41a16f",
   "metadata": {},
   "outputs": [],
   "source": [
    "# drop the ID\n",
    "\n",
    "df.drop(columns=['customerID'], inplace = True)"
   ]
  },
  {
   "cell_type": "markdown",
   "id": "9a951c5a",
   "metadata": {},
   "source": [
    "### 3.2) Imuting the missing value "
   ]
  },
  {
   "cell_type": "code",
   "execution_count": 6,
   "id": "d9913b6a",
   "metadata": {},
   "outputs": [],
   "source": [
    "#  'TotalCharges' column is supposed to be numeric but is incorrectly recognized as an object data type\n",
    "df['TotalCharges'] = pd.to_numeric(df['TotalCharges'], errors='coerce')"
   ]
  },
  {
   "cell_type": "code",
   "execution_count": 7,
   "id": "d210500f",
   "metadata": {},
   "outputs": [
    {
     "data": {
      "text/plain": [
       "gender               0\n",
       "SeniorCitizen        0\n",
       "Partner              0\n",
       "Dependents           0\n",
       "tenure               0\n",
       "PhoneService         0\n",
       "MultipleLines        0\n",
       "InternetService      0\n",
       "OnlineSecurity       0\n",
       "OnlineBackup         0\n",
       "DeviceProtection     0\n",
       "TechSupport          0\n",
       "StreamingTV          0\n",
       "StreamingMovies      0\n",
       "Contract             0\n",
       "PaperlessBilling     0\n",
       "PaymentMethod        0\n",
       "MonthlyCharges       0\n",
       "TotalCharges        11\n",
       "Churn                0\n",
       "dtype: int64"
      ]
     },
     "execution_count": 7,
     "metadata": {},
     "output_type": "execute_result"
    }
   ],
   "source": [
    "df.isnull().sum()"
   ]
  },
  {
   "cell_type": "code",
   "execution_count": 8,
   "id": "2cd2e064",
   "metadata": {},
   "outputs": [
    {
     "data": {
      "image/png": "[encoded data removed]",
      "text/plain": [
       "<Figure size 1200x300 with 1 Axes>"
      ]
     },
     "metadata": {},
     "output_type": "display_data"
    }
   ],
   "source": [
    "# Convert 'TotalCharges' column to numeric\n",
    "df['TotalCharges'] = pd.to_numeric(df['TotalCharges'], errors='coerce')\n",
    "\n",
    "plt.figure(figsize=(12, 3))\n",
    "df['TotalCharges'].hist()\n",
    "plt.show()"
   ]
  },
  {
   "cell_type": "markdown",
   "id": "176fc69c",
   "metadata": {},
   "source": [
    "- As the data skewed and has some outliers, it is better to use median."
   ]
  },
  {
   "cell_type": "code",
   "execution_count": 9,
   "id": "e0ed9135",
   "metadata": {},
   "outputs": [],
   "source": [
    "# Fill the missing values\n",
    "median = df['TotalCharges'].median()\n",
    "df['TotalCharges'].fillna(median, inplace=True)"
   ]
  },
  {
   "cell_type": "code",
   "execution_count": 10,
   "id": "e7287fa3",
   "metadata": {},
   "outputs": [
    {
     "data": {
      "text/plain": [
       "False"
      ]
     },
     "execution_count": 10,
     "metadata": {},
     "output_type": "execute_result"
    }
   ],
   "source": [
    "df.isnull().sum().any()"
   ]
  },
  {
   "cell_type": "markdown",
   "id": "af228b33",
   "metadata": {},
   "source": [
    "### 3.3) Detect the Outlier "
   ]
  },
  {
   "cell_type": "code",
   "execution_count": 11,
   "id": "91183553",
   "metadata": {},
   "outputs": [
    {
     "name": "stdout",
     "output_type": "stream",
     "text": [
      "tenure no\n",
      "MonthlyCharges no\n",
      "TotalCharges no\n"
     ]
    }
   ],
   "source": [
    "# Outlier Observation Analysis\n",
    "for feature in df[['tenure', 'MonthlyCharges', 'TotalCharges']]:\n",
    "    \n",
    "    Q1 = df[feature].quantile(0.25)\n",
    "    Q3 = df[feature].quantile(0.75)\n",
    "    IQR = Q3-Q1\n",
    "    lower = Q1- 1.5*IQR\n",
    "    upper = Q3 + 1.5*IQR\n",
    "    \n",
    "    if df[(df[feature] > upper)].any(axis=None):\n",
    "        print(feature,\"yes\")\n",
    "    else:\n",
    "        print(feature, \"no\")"
   ]
  },
  {
   "cell_type": "markdown",
   "id": "0b53b2b1",
   "metadata": {},
   "source": [
    "- Identifying and dealing with outliers can lead to more robust models, as may produce less accurate predictions or estimations"
   ]
  },
  {
   "cell_type": "markdown",
   "id": "f76eea51",
   "metadata": {},
   "source": [
    "### 3.4) Division of Data into independents and dependent"
   ]
  },
  {
   "cell_type": "markdown",
   "id": "35249f9c",
   "metadata": {},
   "source": [
    "- First convert the string type class labels in target variable from ‘yes’ ‘no’ to integers 1 and 0."
   ]
  },
  {
   "cell_type": "code",
   "execution_count": 12,
   "id": "75722061",
   "metadata": {},
   "outputs": [],
   "source": [
    "df.Churn.replace(['Yes','No'],[1,0],inplace=True)\n",
    "X = df.drop('Churn', axis=1)\n",
    "y = df['Churn']"
   ]
  },
  {
   "cell_type": "markdown",
   "id": "99265cf7",
   "metadata": {},
   "source": [
    "### 3.5) Encoding"
   ]
  },
  {
   "cell_type": "markdown",
   "id": "62ea0e1b",
   "metadata": {},
   "source": [
    "- Perform feature encoding to convert categorical features into numerical features"
   ]
  },
  {
   "cell_type": "code",
   "execution_count": 13,
   "id": "d2567c62",
   "metadata": {},
   "outputs": [
    {
     "name": "stdout",
     "output_type": "stream",
     "text": [
      "['gender', 'SeniorCitizen', 'Partner', 'Dependents', 'PhoneService', 'MultipleLines', 'InternetService', 'OnlineSecurity', 'OnlineBackup', 'DeviceProtection', 'TechSupport', 'StreamingTV', 'StreamingMovies', 'Contract', 'PaperlessBilling', 'PaymentMethod']\n"
     ]
    }
   ],
   "source": [
    "# List of categorical columns (Senior is 0,1 but indeed is a categorical)\n",
    "cat_cols = [col for col in X.columns if X[col].dtype == 'object' or (col == 'SeniorCitizen' and X[col].dtype == 'int64')]\n",
    "print(cat_cols)"
   ]
  },
  {
   "cell_type": "code",
   "execution_count": 14,
   "id": "7a310e62",
   "metadata": {},
   "outputs": [],
   "source": [
    "# Encode categorical variables\n",
    "encoder = OneHotEncoder(sparse_output=False, handle_unknown='ignore')\n",
    "encoder.fit(X[cat_cols])\n",
    "categorical_encoded = pd.DataFrame(encoder.transform(X[cat_cols]),index=X.index)"
   ]
  },
  {
   "cell_type": "code",
   "execution_count": 15,
   "id": "9c64a426-c887-4853-85e8-b1ab7e427735",
   "metadata": {},
   "outputs": [],
   "source": [
    "with open('encoder.pkl', 'wb') as f:\n",
    "    pickle.dump(encoder, f)"
   ]
  },
  {
   "cell_type": "code",
   "execution_count": 16,
   "id": "cc6c76bf",
   "metadata": {},
   "outputs": [],
   "source": [
    "# it retains only the numerical (non-categorical) columns for further analysis or modeling.\n",
    "numerical_data = X.drop(cat_cols, axis=1)"
   ]
  },
  {
   "cell_type": "code",
   "execution_count": 17,
   "id": "72c4402e-81f5-4173-8990-6bae02c1ce84",
   "metadata": {},
   "outputs": [],
   "source": [
    "# covert nummeric feature names (header) to string.\n",
    "categorical_encoded.columns = [str(col) for col in categorical_encoded.columns]"
   ]
  },
  {
   "cell_type": "code",
   "execution_count": 18,
   "id": "33081493",
   "metadata": {},
   "outputs": [
    {
     "data": {
      "text/html": [
       "<div>\n",
       "<style scoped>\n",
       "    .dataframe tbody tr th:only-of-type {\n",
       "        vertical-align: middle;\n",
       "    }\n",
       "\n",
       "    .dataframe tbody tr th {\n",
       "        vertical-align: top;\n",
       "    }\n",
       "\n",
       "    .dataframe thead th {\n",
       "        text-align: right;\n",
       "    }\n",
       "</style>\n",
       "<table border=\"1\" class=\"dataframe\">\n",
       "  <thead>\n",
       "    <tr style=\"text-align: right;\">\n",
       "      <th></th>\n",
       "      <th>0</th>\n",
       "      <th>1</th>\n",
       "      <th>2</th>\n",
       "      <th>3</th>\n",
       "      <th>4</th>\n",
       "      <th>5</th>\n",
       "      <th>6</th>\n",
       "      <th>7</th>\n",
       "      <th>8</th>\n",
       "      <th>9</th>\n",
       "      <th>...</th>\n",
       "      <th>36</th>\n",
       "      <th>37</th>\n",
       "      <th>38</th>\n",
       "      <th>39</th>\n",
       "      <th>40</th>\n",
       "      <th>41</th>\n",
       "      <th>42</th>\n",
       "      <th>tenure</th>\n",
       "      <th>MonthlyCharges</th>\n",
       "      <th>TotalCharges</th>\n",
       "    </tr>\n",
       "  </thead>\n",
       "  <tbody>\n",
       "    <tr>\n",
       "      <th>0</th>\n",
       "      <td>1.0</td>\n",
       "      <td>0.0</td>\n",
       "      <td>1.0</td>\n",
       "      <td>0.0</td>\n",
       "      <td>0.0</td>\n",
       "      <td>1.0</td>\n",
       "      <td>1.0</td>\n",
       "      <td>0.0</td>\n",
       "      <td>1.0</td>\n",
       "      <td>0.0</td>\n",
       "      <td>...</td>\n",
       "      <td>0.0</td>\n",
       "      <td>0.0</td>\n",
       "      <td>1.0</td>\n",
       "      <td>0.0</td>\n",
       "      <td>0.0</td>\n",
       "      <td>1.0</td>\n",
       "      <td>0.0</td>\n",
       "      <td>1</td>\n",
       "      <td>29.85</td>\n",
       "      <td>29.85</td>\n",
       "    </tr>\n",
       "    <tr>\n",
       "      <th>1</th>\n",
       "      <td>0.0</td>\n",
       "      <td>1.0</td>\n",
       "      <td>1.0</td>\n",
       "      <td>0.0</td>\n",
       "      <td>1.0</td>\n",
       "      <td>0.0</td>\n",
       "      <td>1.0</td>\n",
       "      <td>0.0</td>\n",
       "      <td>0.0</td>\n",
       "      <td>1.0</td>\n",
       "      <td>...</td>\n",
       "      <td>0.0</td>\n",
       "      <td>1.0</td>\n",
       "      <td>0.0</td>\n",
       "      <td>0.0</td>\n",
       "      <td>0.0</td>\n",
       "      <td>0.0</td>\n",
       "      <td>1.0</td>\n",
       "      <td>34</td>\n",
       "      <td>56.95</td>\n",
       "      <td>1889.50</td>\n",
       "    </tr>\n",
       "    <tr>\n",
       "      <th>2</th>\n",
       "      <td>0.0</td>\n",
       "      <td>1.0</td>\n",
       "      <td>1.0</td>\n",
       "      <td>0.0</td>\n",
       "      <td>1.0</td>\n",
       "      <td>0.0</td>\n",
       "      <td>1.0</td>\n",
       "      <td>0.0</td>\n",
       "      <td>0.0</td>\n",
       "      <td>1.0</td>\n",
       "      <td>...</td>\n",
       "      <td>0.0</td>\n",
       "      <td>0.0</td>\n",
       "      <td>1.0</td>\n",
       "      <td>0.0</td>\n",
       "      <td>0.0</td>\n",
       "      <td>0.0</td>\n",
       "      <td>1.0</td>\n",
       "      <td>2</td>\n",
       "      <td>53.85</td>\n",
       "      <td>108.15</td>\n",
       "    </tr>\n",
       "    <tr>\n",
       "      <th>3</th>\n",
       "      <td>0.0</td>\n",
       "      <td>1.0</td>\n",
       "      <td>1.0</td>\n",
       "      <td>0.0</td>\n",
       "      <td>1.0</td>\n",
       "      <td>0.0</td>\n",
       "      <td>1.0</td>\n",
       "      <td>0.0</td>\n",
       "      <td>1.0</td>\n",
       "      <td>0.0</td>\n",
       "      <td>...</td>\n",
       "      <td>0.0</td>\n",
       "      <td>1.0</td>\n",
       "      <td>0.0</td>\n",
       "      <td>1.0</td>\n",
       "      <td>0.0</td>\n",
       "      <td>0.0</td>\n",
       "      <td>0.0</td>\n",
       "      <td>45</td>\n",
       "      <td>42.30</td>\n",
       "      <td>1840.75</td>\n",
       "    </tr>\n",
       "    <tr>\n",
       "      <th>4</th>\n",
       "      <td>1.0</td>\n",
       "      <td>0.0</td>\n",
       "      <td>1.0</td>\n",
       "      <td>0.0</td>\n",
       "      <td>1.0</td>\n",
       "      <td>0.0</td>\n",
       "      <td>1.0</td>\n",
       "      <td>0.0</td>\n",
       "      <td>0.0</td>\n",
       "      <td>1.0</td>\n",
       "      <td>...</td>\n",
       "      <td>0.0</td>\n",
       "      <td>0.0</td>\n",
       "      <td>1.0</td>\n",
       "      <td>0.0</td>\n",
       "      <td>0.0</td>\n",
       "      <td>1.0</td>\n",
       "      <td>0.0</td>\n",
       "      <td>2</td>\n",
       "      <td>70.70</td>\n",
       "      <td>151.65</td>\n",
       "    </tr>\n",
       "  </tbody>\n",
       "</table>\n",
       "<p>5 rows × 46 columns</p>\n",
       "</div>"
      ],
      "text/plain": [
       "     0    1    2    3    4    5    6    7    8    9  ...   36   37   38   39  \\\n",
       "0  1.0  0.0  1.0  0.0  0.0  1.0  1.0  0.0  1.0  0.0  ...  0.0  0.0  1.0  0.0   \n",
       "1  0.0  1.0  1.0  0.0  1.0  0.0  1.0  0.0  0.0  1.0  ...  0.0  1.0  0.0  0.0   \n",
       "2  0.0  1.0  1.0  0.0  1.0  0.0  1.0  0.0  0.0  1.0  ...  0.0  0.0  1.0  0.0   \n",
       "3  0.0  1.0  1.0  0.0  1.0  0.0  1.0  0.0  1.0  0.0  ...  0.0  1.0  0.0  1.0   \n",
       "4  1.0  0.0  1.0  0.0  1.0  0.0  1.0  0.0  0.0  1.0  ...  0.0  0.0  1.0  0.0   \n",
       "\n",
       "    40   41   42  tenure  MonthlyCharges  TotalCharges  \n",
       "0  0.0  1.0  0.0       1           29.85         29.85  \n",
       "1  0.0  0.0  1.0      34           56.95       1889.50  \n",
       "2  0.0  0.0  1.0       2           53.85        108.15  \n",
       "3  0.0  0.0  0.0      45           42.30       1840.75  \n",
       "4  0.0  1.0  0.0       2           70.70        151.65  \n",
       "\n",
       "[5 rows x 46 columns]"
      ]
     },
     "execution_count": 18,
     "metadata": {},
     "output_type": "execute_result"
    }
   ],
   "source": [
    "X = pd.concat([categorical_encoded, numerical_data], axis=1)\n",
    "X.head()"
   ]
  },
  {
   "cell_type": "markdown",
   "id": "64feb142",
   "metadata": {},
   "source": [
    "### 3.6) Feature Scaling, Normalize the data"
   ]
  },
  {
   "cell_type": "code",
   "execution_count": 20,
   "id": "d5250124",
   "metadata": {},
   "outputs": [],
   "source": [
    "cols = X.columns\n",
    "\n",
    "scaler = MinMaxScaler()\n",
    "x_scaled = scaler.fit_transform(X)\n",
    "X = pd.DataFrame(x_scaled, columns=cols)\n",
    "\n",
    "\n"
   ]
  },
  {
   "cell_type": "markdown",
   "id": "a48a446b",
   "metadata": {},
   "source": [
    "### 3.7) Split the data into train and test"
   ]
  },
  {
   "cell_type": "code",
   "execution_count": 21,
   "id": "0f7aa794",
   "metadata": {},
   "outputs": [],
   "source": [
    "X_train, X_test, y_train, y_test = train_test_split(X, y,test_size=0.20, random_state=42)"
   ]
  },
  {
   "cell_type": "code",
   "execution_count": 22,
   "id": "dcc51ca7",
   "metadata": {},
   "outputs": [
    {
     "name": "stdout",
     "output_type": "stream",
     "text": [
      "Shape of x_train and y_train:  (5634, 46) (5634,)\n",
      "Shape of x_test and y_test:  (1409, 46) (1409,)\n"
     ]
    }
   ],
   "source": [
    "print('Shape of x_train and y_train: ',X_train.shape, y_train.shape)\n",
    "print('Shape of x_test and y_test: ',X_test.shape, y_test.shape)"
   ]
  },
  {
   "cell_type": "markdown",
   "id": "62eedead",
   "metadata": {},
   "source": [
    "### Plot confusion matrix"
   ]
  },
  {
   "cell_type": "code",
   "execution_count": 23,
   "id": "03fe3e41",
   "metadata": {},
   "outputs": [],
   "source": [
    "def plot_confusion_matrix(y_test, y_pred, labels= None):\n",
    "    \n",
    "    \"\"\"\n",
    "    parameters:\n",
    "    - y_test : Actual label(Ground truth)\n",
    "    - y_pred : predicted labels\n",
    "    - labels : list of class label for customizing the axis\n",
    "    \"\"\"\n",
    "    # calculate the confusion matrix\n",
    "    cm = confusion_matrix(y_test,y_pred)\n",
    "    labels = ['Not Churn','Churn']\n",
    "    \n",
    "    # create a heatmap for visualization\n",
    "    plt.figure(figsize=(6,4))\n",
    "    sns.heatmap(cm,annot=True,cmap='Blues',fmt='d',cbar=False, xticklabels=labels, yticklabels=labels)\n",
    "    \n",
    "    # plot labels\n",
    "    plt.xlabel('predicted')\n",
    "    plt.ylabel('True')\n",
    "    plt.title('Confusion Matrix')\n",
    "    plt.show()"
   ]
  },
  {
   "cell_type": "markdown",
   "id": "776f2b63",
   "metadata": {},
   "source": [
    "### Create a list for collecting the results"
   ]
  },
  {
   "cell_type": "code",
   "execution_count": 24,
   "id": "0c3c0e97",
   "metadata": {},
   "outputs": [],
   "source": [
    "# two empthy list to append all the results\n",
    "\n",
    "accu = []\n",
    "methods = []"
   ]
  },
  {
   "cell_type": "markdown",
   "id": "6e05f02f",
   "metadata": {},
   "source": [
    "## 4) Tackle Imbalance Data"
   ]
  },
  {
   "cell_type": "markdown",
   "id": "cbd07c0b",
   "metadata": {},
   "source": [
    "### Compare two *hybrid* sampling : SMOTEENN and SMOTETomek"
   ]
  },
  {
   "cell_type": "code",
   "execution_count": 25,
   "id": "92c75990",
   "metadata": {},
   "outputs": [
    {
     "name": "stdout",
     "output_type": "stream",
     "text": [
      "Performance for SMOTEENN:\n",
      "Accuracy: 0.6990773598296665\n",
      "              precision    recall  f1-score   support\n",
      "\n",
      "           0       0.94      0.63      0.75      1036\n",
      "           1       0.46      0.89      0.61       373\n",
      "\n",
      "    accuracy                           0.70      1409\n",
      "   macro avg       0.70      0.76      0.68      1409\n",
      "weighted avg       0.81      0.70      0.72      1409\n",
      "\n",
      "\n",
      "Performance for SMOTETomek:\n",
      "Accuracy: 0.7579843860894251\n",
      "              precision    recall  f1-score   support\n",
      "\n",
      "           0       0.93      0.73      0.82      1036\n",
      "           1       0.53      0.84      0.65       373\n",
      "\n",
      "    accuracy                           0.76      1409\n",
      "   macro avg       0.73      0.78      0.73      1409\n",
      "weighted avg       0.82      0.76      0.77      1409\n",
      "\n"
     ]
    }
   ],
   "source": [
    "# Create instances of resampling methods with different parameters\n",
    "resampler1 = SMOTEENN(sampling_strategy='auto', random_state=42)\n",
    "resampler2 = SMOTETomek(sampling_strategy='auto', random_state=42)\n",
    "\n",
    "# Apply resampling methods to the training data\n",
    "X_train_resampled1, y_train_resampled1 = resampler1.fit_resample(X_train, y_train)\n",
    "X_train_resampled2, y_train_resampled2 = resampler2.fit_resample(X_train, y_train)\n",
    "\n",
    "# Train and evaluate a machine learning model (e.g., Logistic Regression) for each resampled dataset\n",
    "lr = LogisticRegression(random_state=42)\n",
    "\n",
    "lr.fit(X_train_resampled1, y_train_resampled1)\n",
    "y_pred1 = lr.predict(X_test)\n",
    "\n",
    "lr.fit(X_train_resampled2, y_train_resampled2)\n",
    "y_pred2 = lr.predict(X_test)\n",
    "\n",
    "# Evaluate and compare the performance of each method\n",
    "print(\"Performance for SMOTEENN:\")\n",
    "print(\"Accuracy:\", accuracy_score(y_test, y_pred1))\n",
    "print(classification_report(y_test, y_pred1))\n",
    "\n",
    "print(\"\\nPerformance for SMOTETomek:\")\n",
    "print(\"Accuracy:\", accuracy_score(y_test, y_pred2))\n",
    "print(classification_report(y_test, y_pred2))"
   ]
  },
  {
   "cell_type": "markdown",
   "id": "fa1d0382",
   "metadata": {},
   "source": [
    "**Observation:**\n",
    "\n",
    "- Comparatively, **SMOTETomek** has a higher overall accuracy (76% vs. 70%) and performs better across most metrics for both classes (0 and 1) when compared to SMOTEENN. It shows improvements in precision, recall, and F1-score for both classes in the dataset."
   ]
  },
  {
   "cell_type": "markdown",
   "id": "f60311ea",
   "metadata": {},
   "source": [
    "### why choose these two methods?"
   ]
  },
  {
   "cell_type": "markdown",
   "id": "a72e4a3a",
   "metadata": {},
   "source": [
    "- Combining oversampling and undersampling offers the advantage of achieving a more balanced and informative dataset. Oversampling enhances the representation of the minority class, while undersampling reduces the dominance of the majority class, striking a better class balance.\n",
    "\n",
    "\n",
    "- Both SMOTEENN and SMOTETomek exhibit versatility by accommodating datasets with categorical features, making them adaptable to a wide range of data types.\n",
    "\n",
    "\n",
    "- The shared objective of SMOTEENN and SMOTETomek is to mitigate overfitting by addressing issues related to noise and potentially conflicting instances within the dataset.\n",
    "\n",
    "\n",
    "- In addition to the improved accuracy achieved by SMOTETomek, it is noteworthy that SMOTETomek may be more computationally efficient compared to SMOTEENN, primarily due to the simplified nature of the removal of Tomek links."
   ]
  },
  {
   "cell_type": "markdown",
   "id": "eae69415",
   "metadata": {},
   "source": [
    "### Rename based on SMOTETomek"
   ]
  },
  {
   "cell_type": "code",
   "execution_count": 26,
   "id": "cd0de26b",
   "metadata": {},
   "outputs": [],
   "source": [
    "X_train = X_train_resampled2\n",
    "y_train = y_train_resampled2"
   ]
  },
  {
   "cell_type": "markdown",
   "id": "6d3a66df",
   "metadata": {},
   "source": [
    "## 5) Model Buillding"
   ]
  },
  {
   "cell_type": "markdown",
   "id": "5d05c95f",
   "metadata": {},
   "source": [
    "- We have chosen the following models for churn prediction, each serving specific purposes:\n",
    "\n",
    "1. **Logistic Regression**:\n",
    "   - Model: Simple linear model for binary classification.\n",
    "   - Reason: It is interpretable, suitable for categorical features, and serves as a baseline model.\n",
    "\n",
    "2. **Support Vector Machine (SVM)**:\n",
    "   - Model: Effective for capturing complex decision boundaries.\n",
    "   - Reason: SVM can handle both categorical and numerical features and is capable of using kernel tricks for feature mapping.\n",
    "\n",
    "3. **XGBoost**:\n",
    "   - Model: Ensemble model with high predictive performance.\n",
    "   - Reason: XGBoost excels at handling categorical data with one-hot encoding and capturing complex relationships.\n",
    "\n",
    "4. **Neural Network (Feedforward NN)**:\n",
    "   - Model: Deep learning model for capturing non-linear patterns.\n",
    "   - Reason: Suitable for high-dimensional data, excels in handling intricate relationships."
   ]
  },
  {
   "cell_type": "markdown",
   "id": "d48bc5a6",
   "metadata": {},
   "source": [
    "## 5.1) Logistic Regression"
   ]
  },
  {
   "cell_type": "code",
   "execution_count": 27,
   "id": "9b6ac4ef",
   "metadata": {},
   "outputs": [
    {
     "name": "stdout",
     "output_type": "stream",
     "text": [
      "Accuracy score : 0.7579843860894251\n",
      "Confusion matrix :\n",
      " [[756  61]\n",
      " [280 312]]\n",
      "Classification report :\n",
      "               precision    recall  f1-score   support\n",
      "\n",
      "           0       0.73      0.93      0.82       817\n",
      "           1       0.84      0.53      0.65       592\n",
      "\n",
      "    accuracy                           0.76      1409\n",
      "   macro avg       0.78      0.73      0.73      1409\n",
      "weighted avg       0.77      0.76      0.74      1409\n",
      "\n"
     ]
    }
   ],
   "source": [
    "Log_reg = LogisticRegression()\n",
    "Log_reg.fit(X_train, y_train)\n",
    "y_pred = Log_reg.predict(X_test)\n",
    "\n",
    "print(f'Accuracy score : {accuracy_score(y_pred, y_test)}')\n",
    "print(f'Confusion matrix :\\n {confusion_matrix(y_pred, y_test)}')\n",
    "print(f'Classification report :\\n {classification_report(y_pred, y_test)}')"
   ]
  },
  {
   "cell_type": "code",
   "execution_count": 28,
   "id": "ac19e6ab",
   "metadata": {},
   "outputs": [
    {
     "name": "stdout",
     "output_type": "stream",
     "text": [
      "              precision    recall  f1-score   support\n",
      "\n",
      "           0       0.93      0.72      0.81      1036\n",
      "           1       0.52      0.84      0.64       373\n",
      "\n",
      "    accuracy                           0.76      1409\n",
      "   macro avg       0.72      0.78      0.73      1409\n",
      "weighted avg       0.82      0.76      0.77      1409\n",
      "\n",
      "Confusion matrix :\n",
      " [[751  60]\n",
      " [285 313]]\n",
      "X_test Accuracy: 0.7551454932576295\n",
      "CPU times: user 8.74 s, sys: 24.9 s, total: 33.7 s\n",
      "Wall time: 2.91 s\n"
     ]
    }
   ],
   "source": [
    "%%time\n",
    "\n",
    "# Define the logistic regression model with class weight balancing\n",
    "log_reg_cv = LogisticRegression(class_weight='balanced')\n",
    "\n",
    "# Define hyperparameters\n",
    "param_grid = {\n",
    "    'C': [0.001, 0.01, 0.1, 1, 10, 100],  # Extend the range\n",
    "    'penalty': ['l1', 'l2'],\n",
    "    'max_iter': [100, 200]\n",
    "}\n",
    "\n",
    "# Create a stratified cross-validation object\n",
    "stratified_cv = StratifiedKFold(n_splits=5, shuffle=True, random_state=42)\n",
    "\n",
    "# Perform grid search with cross-validation\n",
    "grid_search = GridSearchCV(log_reg_cv, param_grid, cv=stratified_cv, scoring='accuracy')\n",
    "grid_search.fit(X_train, y_train)\n",
    "\n",
    "# Get the best hyperparameters and score\n",
    "best_logreg = grid_search.best_estimator_  # best combination\n",
    "best_score = grid_search.best_score_  # value from the best combination\n",
    "\n",
    "# Evaluate the best estimator on the test data\n",
    "prediction = best_logreg.predict(X_test)\n",
    "\n",
    "# Evaluate the model\n",
    "accuracy = best_logreg.score(X_test, y_test)\n",
    "\n",
    "# Print classification report for a more detailed evaluation\n",
    "report = classification_report(y_test, prediction)\n",
    "print(report)\n",
    "\n",
    "print(f'Confusion matrix :\\n {confusion_matrix(prediction, y_test)}')\n",
    "\n",
    "\n",
    "# Append the results\n",
    "\n",
    "accu.append(best_logreg.score(X_test,y_test))\n",
    "methods.append('Logistic Regression')\n",
    "print('X_test Accuracy:', best_logreg.score(X_test,y_test))"
   ]
  },
  {
   "cell_type": "code",
   "execution_count": 29,
   "id": "ddcb3490",
   "metadata": {},
   "outputs": [
    {
     "name": "stdout",
     "output_type": "stream",
     "text": [
      "Training Accuracy: 0.7887755102040817\n",
      "Test Accuracy: 0.7551454932576295\n",
      "The model seems to generalize well.\n"
     ]
    }
   ],
   "source": [
    "# Evaluate the model on the training set\n",
    "training_accuracy = best_logreg.score(X_train, y_train)\n",
    "\n",
    "# Print accuracy on both training and test sets\n",
    "print(f'Training Accuracy: {training_accuracy}')\n",
    "print(f'Test Accuracy: {accuracy}')\n",
    "\n",
    "# Check for overfitting\n",
    "if training_accuracy - accuracy > 0.2:\n",
    "    print(\"Warning: The model may be overfitting.\")\n",
    "else:\n",
    "    print(\"The model seems to generalize well.\")\n"
   ]
  },
  {
   "cell_type": "code",
   "execution_count": 30,
   "id": "4509378c",
   "metadata": {},
   "outputs": [
    {
     "data": {
      "image/png": "[encoded data removed]",
      "text/plain": [
       "<Figure size 600x400 with 1 Axes>"
      ]
     },
     "metadata": {},
     "output_type": "display_data"
    }
   ],
   "source": [
    "plot_confusion_matrix(y_test, prediction, labels= None)"
   ]
  },
  {
   "cell_type": "markdown",
   "id": "423c6469",
   "metadata": {},
   "source": [
    "**Observation**\n",
    "\n",
    "- Default logistic regression: Accuracy 78.38%, F1-score approximately 0.78 (class 0) and 0.79 (class 1).\n",
    "\n",
    "\n",
    "- Tuned logistic regression: Accuracy 79%, F1-score improved for both classes.\n",
    "\n",
    "\n",
    "- Confusion matrix: Tuned model shows increased true negatives and true positives.\n",
    "\n",
    "\n",
    "- F1-score improvement in the tuned model indicates enhanced performance, crucial in handling imbalanced datasets."
   ]
  },
  {
   "cell_type": "markdown",
   "id": "562eca05",
   "metadata": {},
   "source": [
    "## 5.2) Support Vector Machine"
   ]
  },
  {
   "cell_type": "code",
   "execution_count": 31,
   "id": "a5934bc8",
   "metadata": {},
   "outputs": [
    {
     "name": "stdout",
     "output_type": "stream",
     "text": [
      "Accuracy score: 0.7707594038325053\n",
      "Confusion matrix:\n",
      " [[819 106]\n",
      " [217 267]]\n",
      "Classification report:\n",
      "               precision    recall  f1-score   support\n",
      "\n",
      "           0       0.79      0.89      0.84       925\n",
      "           1       0.72      0.55      0.62       484\n",
      "\n",
      "    accuracy                           0.77      1409\n",
      "   macro avg       0.75      0.72      0.73      1409\n",
      "weighted avg       0.76      0.77      0.76      1409\n",
      "\n"
     ]
    }
   ],
   "source": [
    "# Support Vector Machine (SVM) Classifier\n",
    "svm = SVC(random_state=42)\n",
    "svm.fit(X_train, y_train)\n",
    "svm_pred = svm.predict(X_test)\n",
    "\n",
    "print(f'Accuracy score: {accuracy_score(svm_pred, y_test)}')\n",
    "print(f'Confusion matrix:\\n {confusion_matrix(svm_pred, y_test)}')\n",
    "print(f'Classification report:\\n {classification_report(svm_pred, y_test)}')"
   ]
  },
  {
   "cell_type": "code",
   "execution_count": 32,
   "id": "f192b245",
   "metadata": {},
   "outputs": [
    {
     "name": "stdout",
     "output_type": "stream",
     "text": [
      "Accuracy score: 0.772888573456352\n",
      "Confusion matrix:\n",
      " [[917 201]\n",
      " [119 172]]\n",
      "Classification report:\n",
      "               precision    recall  f1-score   support\n",
      "\n",
      "           0       0.89      0.82      0.85      1118\n",
      "           1       0.46      0.59      0.52       291\n",
      "\n",
      "    accuracy                           0.77      1409\n",
      "   macro avg       0.67      0.71      0.68      1409\n",
      "weighted avg       0.80      0.77      0.78      1409\n",
      "\n",
      "X_test Accuracy: 0.772888573456352\n",
      "CPU times: user 1min 49s, sys: 1.36 s, total: 1min 50s\n",
      "Wall time: 1min 50s\n"
     ]
    }
   ],
   "source": [
    "%%time\n",
    "# Define the SVM model with adjusted class weight for imbalance\n",
    "svm_balanced = SVC(random_state=42, class_weight='balanced')\n",
    "\n",
    "# Hyperparameter tuning grid\n",
    "param_grid_svm = {\n",
    "    'kernel': ['linear','rbf'], \n",
    "    'C': [0.1, 0.5, 1.0],\n",
    "    'gamma': [0.1, 0.5, 1.0]}\n",
    "#reduce gamma as well\n",
    "#'coef0':[0.001,0.0001]} # Small values for additional regularization\n",
    "\n",
    "# Perform grid search using cross-validation\n",
    "grid_search_svm = GridSearchCV(svm_balanced, param_grid_svm, cv=5, scoring='accuracy')\n",
    "grid_search_svm.fit(X_train, y_train)\n",
    "\n",
    "# Get the best estimator\n",
    "best_svm = grid_search_svm.best_estimator_\n",
    "\n",
    "# Evaluate the best estimator on the test data\n",
    "svm_prediction = best_svm.predict(X_test)\n",
    "\n",
    "# Print the evaluation metrics\n",
    "print(f'Accuracy score: {accuracy_score(svm_prediction, y_test)}')\n",
    "print(f'Confusion matrix:\\n {confusion_matrix(svm_prediction, y_test)}')\n",
    "print(f'Classification report:\\n {classification_report(svm_prediction, y_test)}')\n",
    "\n",
    "# Append the results\n",
    "\n",
    "accu.append(best_svm.score(X_test,y_test))\n",
    "methods.append('Support Vector Machine')\n",
    "print('X_test Accuracy:', best_svm.score(X_test,y_test))"
   ]
  },
  {
   "cell_type": "code",
   "execution_count": 33,
   "id": "da0fe853",
   "metadata": {},
   "outputs": [
    {
     "name": "stdout",
     "output_type": "stream",
     "text": [
      "Training Accuracy (SVM): 0.9581632653061225\n",
      "Test Accuracy (SVM): 0.772888573456352\n",
      "The SVM model seems to generalize well.\n"
     ]
    }
   ],
   "source": [
    "# Evaluate the SVM model on the training set\n",
    "training_accuracy_svm = best_svm.score(X_train, y_train)\n",
    "\n",
    "# Evaluate the SVM model on the test set\n",
    "svm_prediction = best_svm.predict(X_test)\n",
    "\n",
    "# Print accuracy on both training and test sets\n",
    "print(f'Training Accuracy (SVM): {training_accuracy_svm}')\n",
    "print(f'Test Accuracy (SVM): {accuracy_score(svm_prediction, y_test)}')\n",
    "\n",
    "# Check for overfitting in the SVM model\n",
    "if training_accuracy_svm - accuracy_score(svm_prediction, y_test) > 0.2:\n",
    "    print(\"Warning: The SVM model may be overfitting.\")\n",
    "else:\n",
    "    print(\"The SVM model seems to generalize well.\")\n"
   ]
  },
  {
   "cell_type": "code",
   "execution_count": 34,
   "id": "f16b34a9",
   "metadata": {},
   "outputs": [
    {
     "data": {
      "image/png": "[encoded data removed]",
      "text/plain": [
       "<Figure size 600x400 with 1 Axes>"
      ]
     },
     "metadata": {},
     "output_type": "display_data"
    }
   ],
   "source": [
    "plot_confusion_matrix(y_test, svm_prediction, labels= None)"
   ]
  },
  {
   "cell_type": "markdown",
   "id": "e8f2475e",
   "metadata": {},
   "source": [
    "**Observation:**\n",
    "\n",
    "- The hyperparameter-tuned SVM demonstrates better overall accuracy (84.63%) than the default model (82.78%).\n",
    "\n",
    "\n",
    "- Both models display improvement in handling imbalanced data, as indicated by higher F1-scores (0.83 to 0.85).\n",
    "\n",
    "\n",
    "- The fine-tuned SVM shows an enhanced ability to correctly classify positive and negative classes, presenting a stronger performance."
   ]
  },
  {
   "cell_type": "markdown",
   "id": "c6b219bc",
   "metadata": {},
   "source": [
    "### 5.3) xgboost (Extreme Gradient Boosting) "
   ]
  },
  {
   "cell_type": "code",
   "execution_count": 35,
   "id": "b0e2b59f",
   "metadata": {},
   "outputs": [
    {
     "name": "stdout",
     "output_type": "stream",
     "text": [
      "Accuracy score: 0.7849538679914834\n",
      "Confusion matrix:\n",
      " [[882 149]\n",
      " [154 224]]\n",
      "Classification report:\n",
      "               precision    recall  f1-score   support\n",
      "\n",
      "           0       0.85      0.86      0.85      1031\n",
      "           1       0.60      0.59      0.60       378\n",
      "\n",
      "    accuracy                           0.78      1409\n",
      "   macro avg       0.73      0.72      0.72      1409\n",
      "weighted avg       0.78      0.78      0.78      1409\n",
      "\n"
     ]
    }
   ],
   "source": [
    "# XGBoost Classifier\n",
    "xgb_model = xgb.XGBClassifier(random_state=42)\n",
    "xgb_model.fit(X_train, y_train)\n",
    "xgb_pred = xgb_model.predict(X_test)\n",
    "\n",
    "print(f'Accuracy score: {accuracy_score(xgb_pred, y_test)}')\n",
    "print(f'Confusion matrix:\\n {confusion_matrix(xgb_pred, y_test)}')\n",
    "print(f'Classification report:\\n {classification_report(xgb_pred, y_test)}')"
   ]
  },
  {
   "cell_type": "code",
   "execution_count": 36,
   "id": "6f5987e4",
   "metadata": {},
   "outputs": [
    {
     "name": "stdout",
     "output_type": "stream",
     "text": [
      "Accuracy score: 0.7970191625266146\n",
      "Confusion matrix:\n",
      " [[883 133]\n",
      " [153 240]]\n",
      "Classification report:\n",
      "               precision    recall  f1-score   support\n",
      "\n",
      "           0       0.85      0.87      0.86      1016\n",
      "           1       0.64      0.61      0.63       393\n",
      "\n",
      "    accuracy                           0.80      1409\n",
      "   macro avg       0.75      0.74      0.74      1409\n",
      "weighted avg       0.79      0.80      0.80      1409\n",
      "\n",
      "X_test Accuracy: 0.7970191625266146\n",
      "CPU times: user 18min 42s, sys: 3.38 s, total: 18min 46s\n",
      "Wall time: 1min 41s\n"
     ]
    }
   ],
   "source": [
    "%%time\n",
    "\n",
    "xgb_model = xgb.XGBClassifier(random_state=42)\n",
    "param_grid = {\n",
    "    'learning_rate': [0.01, 0.1],\n",
    "    'n_estimators': [100, 200],\n",
    "    'scale_pos_weight': [1, 3],\n",
    "    'max_depth': [3, 5],\n",
    "    'min_child_weight': [1, 3],\n",
    "    'gamma': [0, 0.1, 0.2]\n",
    "}\n",
    "\n",
    "\n",
    "#stratified_cv = StratifiedKFold(n_splits=10, shuffle=True, random_state=42)\n",
    "\n",
    "stratified_cv = StratifiedKFold(n_splits=5, shuffle=True, random_state=42)\n",
    "xgb_grid = GridSearchCV(xgb_model, param_grid, cv=stratified_cv, scoring='accuracy')\n",
    "\n",
    "xgb_grid.fit(X_train, y_train)\n",
    "best_xgb = xgb_grid.best_estimator_\n",
    "\n",
    "xgb_prediction = best_xgb.predict(X_test)\n",
    "\n",
    "print(f'Accuracy score: {accuracy_score(xgb_prediction, y_test)}')\n",
    "print(f'Confusion matrix:\\n {confusion_matrix(xgb_prediction, y_test)}')\n",
    "print(f'Classification report:\\n {classification_report(xgb_prediction, y_test)}')\n",
    "\n",
    "\n",
    "# Append the results\n",
    "\n",
    "accu.append(best_xgb.score(X_test,y_test))\n",
    "methods.append('XGBClassifier')\n",
    "print('X_test Accuracy:', best_xgb.score(X_test,y_test))"
   ]
  },
  {
   "cell_type": "markdown",
   "id": "fb12ebb9",
   "metadata": {},
   "source": [
    "**Observation:**\n",
    "\n",
    "- The accuracy increased slightly from 0.8616 to 0.8642.\n",
    "\n",
    "\n",
    "- The precision, recall, and F1-score for both classes (0 and 1) remained quite consistent between the default and the tuned XGBoost model.\n",
    "\n",
    "\n",
    "- The F1-score, especially crucial for imbalanced data, exhibited similar scores for both classes, emphasizing the stability of the model's performance.\n",
    "\n",
    "\n",
    "- The confusion matrices for both models presented relatively similar performance in predicting both classes with minimal deviations in misclassification.\n"
   ]
  },
  {
   "cell_type": "code",
   "execution_count": 37,
   "id": "4c72d162",
   "metadata": {},
   "outputs": [
    {
     "name": "stdout",
     "output_type": "stream",
     "text": [
      "Training Accuracy (XGBoost): 0.9184948979591837\n",
      "Test Accuracy (XGBoost): 0.7970191625266146\n",
      "The XGBoost model seems to generalize well.\n"
     ]
    }
   ],
   "source": [
    "# Get the best estimator\n",
    "best_xgb = xgb_grid.best_estimator_\n",
    "\n",
    "# Evaluate the best estimator on the training set\n",
    "training_accuracy_xgb = best_xgb.score(X_train, y_train)\n",
    "\n",
    "# Evaluate the best estimator on the test set\n",
    "xgb_prediction = best_xgb.predict(X_test)\n",
    "\n",
    "# Print accuracy on both training and test sets\n",
    "print(f'Training Accuracy (XGBoost): {training_accuracy_xgb}')\n",
    "print(f'Test Accuracy (XGBoost): {accuracy_score(xgb_prediction, y_test)}')\n",
    "\n",
    "# Check for overfitting in the XGBoost model\n",
    "if training_accuracy_xgb - accuracy_score(xgb_prediction, y_test) > 0.2:\n",
    "    print(\"Warning: The XGBoost model may be overfitting.\")\n",
    "else:\n",
    "    print(\"The XGBoost model seems to generalize well.\")\n",
    "\n",
    "\n"
   ]
  },
  {
   "cell_type": "code",
   "execution_count": 38,
   "id": "e71a00c6-03fc-4086-af04-c3b5dcde8968",
   "metadata": {},
   "outputs": [],
   "source": [
    "with open('best_xgb.pkl', 'wb') as f:\n",
    "    pickle.dump(best_xgb, f)"
   ]
  },
  {
   "cell_type": "code",
   "execution_count": 39,
   "id": "4687bed3",
   "metadata": {},
   "outputs": [
    {
     "data": {
      "image/png": "[encoded data removed]",
      "text/plain": [
       "<Figure size 600x400 with 1 Axes>"
      ]
     },
     "metadata": {},
     "output_type": "display_data"
    }
   ],
   "source": [
    "plot_confusion_matrix(y_test, xgb_prediction, labels= None)"
   ]
  },
  {
   "cell_type": "markdown",
   "id": "6c2e29e8",
   "metadata": {},
   "source": [
    "## 5.4) Neural Network (Feedforward NN)"
   ]
  },
  {
   "cell_type": "code",
   "execution_count": 40,
   "id": "78e896b1",
   "metadata": {},
   "outputs": [
    {
     "name": "stdout",
     "output_type": "stream",
     "text": [
      "\u001b[1m45/45\u001b[0m \u001b[32m━━━━━━━━━━━━━━━━━━━━\u001b[0m\u001b[37m\u001b[0m \u001b[1m0s\u001b[0m 2ms/step\n",
      "Training Accuracy (FNN): 0.7734693884849548\n",
      "Test Accuracy (FNN): 0.7494677075940384\n",
      "Warning: The FNN model may be overfitting.\n",
      "Accuracy score: 0.7494677075940384\n",
      "Confusion matrix:\n",
      " [[761  78]\n",
      " [275 295]]\n",
      "Classification report:\n",
      "               precision    recall  f1-score   support\n",
      "\n",
      "           0       0.73      0.91      0.81       839\n",
      "           1       0.79      0.52      0.63       570\n",
      "\n",
      "    accuracy                           0.75      1409\n",
      "   macro avg       0.76      0.71      0.72      1409\n",
      "weighted avg       0.76      0.75      0.74      1409\n",
      "\n",
      "FNN Test Accuracy: 0.7494677075940384\n"
     ]
    }
   ],
   "source": [
    "# Define the model\n",
    "input_dim = X_train.shape[1]  # number of features in the input\n",
    "learning_rate = 0.0000005  # Experiment with the learning rate\n",
    "\n",
    "classifier = Sequential()\n",
    "\n",
    "# layers\n",
    "classifier.add(Dense(units=64, input_dim=input_dim, activation='relu'))\n",
    "classifier.add(Dense(units=128, activation='relu'))\n",
    "classifier.add(Dense(units=256, activation='relu'))\n",
    "classifier.add(Dense(units=128, activation='relu'))\n",
    "classifier.add(Dense(units=64, activation='relu'))\n",
    "classifier.add(Dense(units=32, activation='relu'))\n",
    "classifier.add(Dense(units=16, activation='relu'))\n",
    "classifier.add(Dense(units=1, activation ='sigmoid'))  # sigmoid for binary output\n",
    "\n",
    "# optimize and compile\n",
    "optimizer = Adam(learning_rate)\n",
    "classifier.compile(optimizer=optimizer, loss='binary_crossentropy', metrics=['accuracy'])\n",
    "\n",
    "# Model training\n",
    "#history = classifier.fit(X_train, y_train, batch_size=32, epochs=20)\n",
    "history = classifier.fit(X_train, y_train, batch_size=32, epochs=150, validation_data=(X_test, y_test), verbose=0)\n",
    "# Evaluate Model performance on test set\n",
    "FNN_prediction = classifier.predict(X_test)\n",
    "\n",
    "# unscaling the ypred values \n",
    "threshold = 0.5\n",
    "FNN_predicted_classes = (FNN_prediction > threshold).astype(int)\n",
    "\n",
    "# Print accuracy on both training and test sets\n",
    "training_accuracy_fnn = classifier.evaluate(X_train, y_train, verbose=0)[1]\n",
    "test_accuracy_fnn = accuracy_score(FNN_predicted_classes, y_test)\n",
    "\n",
    "print(f'Training Accuracy (FNN): {training_accuracy_fnn}')\n",
    "print(f'Test Accuracy (FNN): {test_accuracy_fnn}')\n",
    "\n",
    "# Check for overfitting in the FNN model\n",
    "if training_accuracy_fnn > test_accuracy_fnn:\n",
    "    print(\"Warning: The FNN model may be overfitting.\")\n",
    "else:\n",
    "    print(\"The FNN model seems to generalize well.\")\n",
    "\n",
    "# Print the evaluation metrics\n",
    "print(f'Accuracy score: {test_accuracy_fnn}')\n",
    "print(f'Confusion matrix:\\n {confusion_matrix(FNN_predicted_classes, y_test)}')\n",
    "print(f'Classification report:\\n {classification_report(FNN_predicted_classes, y_test)}')\n",
    "\n",
    "# Append the result for comparison\n",
    "accu.append(test_accuracy_fnn)\n",
    "methods.append('Neural Network FNN')\n",
    "print('FNN Test Accuracy:', test_accuracy_fnn)"
   ]
  },
  {
   "cell_type": "code",
   "execution_count": 41,
   "id": "8fcc0af2",
   "metadata": {},
   "outputs": [
    {
     "name": "stdout",
     "output_type": "stream",
     "text": [
      "Training Accuracy (FNN): 0.7734693884849548\n",
      "Test Accuracy (FNN): 0.7494677075940384\n",
      "The FNN model seems to generalize well.\n"
     ]
    }
   ],
   "source": [
    "# Print accuracy on both training and test sets\n",
    "print(f'Training Accuracy (FNN): {training_accuracy_fnn}')\n",
    "print(f'Test Accuracy (FNN): {test_accuracy_fnn}')\n",
    "\n",
    "# Check for overfitting in the FNN model\n",
    "if training_accuracy_fnn - test_accuracy_fnn > 0.2:\n",
    "    print(\"Warning: The FNN model may be overfitting.\")\n",
    "else:\n",
    "    print(\"The FNN model seems to generalize well.\")\n"
   ]
  },
  {
   "cell_type": "code",
   "execution_count": 42,
   "id": "70d780b2",
   "metadata": {},
   "outputs": [
    {
     "data": {
      "image/png": "[encoded data removed]",
      "text/plain": [
       "<Figure size 640x480 with 1 Axes>"
      ]
     },
     "metadata": {},
     "output_type": "display_data"
    },
    {
     "data": {
      "image/png": "[encoded data removed]",
      "text/plain": [
       "<Figure size 640x480 with 1 Axes>"
      ]
     },
     "metadata": {},
     "output_type": "display_data"
    }
   ],
   "source": [
    "#history = classifier.fit(X_train, y_train, batch_size=32, epochs=20, validation_data=(X_test, y_test), verbose=0)\n",
    "\n",
    "# Plot training & validation accuracy values\n",
    "plt.plot(history.history['accuracy'])\n",
    "plt.plot(history.history['val_accuracy'])\n",
    "plt.title('Model accuracy')\n",
    "plt.ylabel('Accuracy')\n",
    "plt.xlabel('Epoch')\n",
    "plt.legend(['Train', 'Test'], loc='upper left')\n",
    "plt.show()\n",
    "\n",
    "# Plot training & validation loss values\n",
    "plt.plot(history.history['loss'])\n",
    "plt.plot(history.history['val_loss'])\n",
    "plt.title('Model loss')\n",
    "plt.ylabel('Loss')\n",
    "plt.xlabel('Epoch')\n",
    "plt.legend(['Train', 'Test'], loc='upper left')\n",
    "plt.show()\n"
   ]
  },
  {
   "cell_type": "code",
   "execution_count": 43,
   "id": "11e82548",
   "metadata": {},
   "outputs": [
    {
     "data": {
      "image/png": "[encoded data removed]",
      "text/plain": [
       "<Figure size 600x400 with 1 Axes>"
      ]
     },
     "metadata": {},
     "output_type": "display_data"
    }
   ],
   "source": [
    "plot_confusion_matrix(y_test, FNN_predicted_classes, labels= None)"
   ]
  },
  {
   "cell_type": "markdown",
   "id": "7c9eebcc",
   "metadata": {},
   "source": [
    "### 6.1) The Best Performed Model"
   ]
  },
  {
   "cell_type": "code",
   "execution_count": 44,
   "id": "dc5667c5",
   "metadata": {},
   "outputs": [
    {
     "name": "stdout",
     "output_type": "stream",
     "text": [
      "['Logistic Regression', 'Support Vector Machine', 'XGBClassifier', 'Neural Network FNN']\n",
      "[0.7551454932576295, 0.772888573456352, 0.7970191625266146, 0.7494677075940384]\n"
     ]
    }
   ],
   "source": [
    "print(methods)\n",
    "print(accu)"
   ]
  },
  {
   "cell_type": "code",
   "execution_count": 45,
   "id": "0cbf77ce",
   "metadata": {},
   "outputs": [
    {
     "data": {
      "image/png": "[encoded data removed]",
      "text/plain": [
       "<Figure size 800x600 with 1 Axes>"
      ]
     },
     "metadata": {},
     "output_type": "display_data"
    }
   ],
   "source": [
    "fig=plt.figure(figsize=(8,6))\n",
    "\n",
    "#creating the bar plot\n",
    "plt.bar(methods,accu,color='green',width=0.3)\n",
    "\n",
    "for i, v in enumerate(accu):\n",
    "    plt.text(i - 0.1, v + 0.01, str(round(v*100, 2))+'%', fontsize=10, color='black')\n",
    "\n",
    "\n",
    "plt.xlabel('Methods',weight='bold')\n",
    "plt.ylabel('Accuracy',weight='bold')\n",
    "plt.title('Best Performed Method')\n",
    "plt.show()"
   ]
  },
  {
   "cell_type": "markdown",
   "id": "33a8540b",
   "metadata": {},
   "source": [
    "### 6.2) Evaluating Model Effectiveness with ROC Curve and AUC"
   ]
  },
  {
   "cell_type": "code",
   "execution_count": 46,
   "id": "bad12c71",
   "metadata": {},
   "outputs": [
    {
     "data": {
      "image/png": "[encoded data removed]",
      "text/plain": [
       "<Figure size 800x600 with 1 Axes>"
      ]
     },
     "metadata": {},
     "output_type": "display_data"
    }
   ],
   "source": [
    "# Define color palette\n",
    "colors = ['orange', 'green', 'red', 'purple']\n",
    "\n",
    "# Create a figure and axes object\n",
    "fig, ax = plt.subplots(figsize=(8, 6))\n",
    "\n",
    "# Plot ROC curves for best_logreg, best_svm, and best_xgb\n",
    "for i, estimator in enumerate([best_logreg, best_svm, best_xgb]):\n",
    "    roc_display = RocCurveDisplay.from_estimator(estimator, X_test, y_test, ax=ax,\n",
    "                                                 name=estimator.__class__.__name__, color=colors[i])\n",
    "\n",
    "# Plot ROC curve for FNN\n",
    "fpr, tpr, _ = metrics.roc_curve(y_test, np.squeeze(FNN_prediction, axis=1))\n",
    "auc = metrics.roc_auc_score(y_test, np.squeeze(FNN_prediction, axis=1))\n",
    "ax.plot(fpr, tpr, label=f\"FNN (AUC = {auc:.2f})\")\n",
    "\n",
    "# Plot the diagonal line\n",
    "ax.plot([0, 1], [0, 1], linestyle='--', color='gray')\n",
    "\n",
    "# Add axis labels and a title\n",
    "ax.set_xlabel('False Positive Rate')\n",
    "ax.set_ylabel('True Positive Rate')\n",
    "ax.set_title('ROC Curves')\n",
    "\n",
    "# Add a legend\n",
    "ax.legend()\n",
    "\n",
    "# Save the figure\n",
    "plt.savefig('ROC_Curves.png', bbox_inches='tight')\n",
    "\n",
    "# Display the plot\n",
    "plt.show()\n"
   ]
  },
  {
   "cell_type": "markdown",
   "id": "eb81ee16",
   "metadata": {},
   "source": [
    "## Results"
   ]
  },
  {
   "cell_type": "markdown",
   "id": "c5bc0414",
   "metadata": {},
   "source": [
    "1. **Logistic Regression** and XGBClassifier demonstrated robust performance in effectively handling imbalanced data, both achieving an AUC score of '**0.86**.\n",
    "\n",
    "\n",
    "\n",
    "2. The **Forward Neural Network (FNN)** closely trailed behind, showcasing competitive performance with an AUC score of **0.84**.\n",
    "\n",
    "\n",
    "\n",
    "3. **Support Vector Classifier (SVC)** exhibited slightly lower effectiveness specifically in dealing with imbalanced data, obtaining an AUC score of **0.77**."
   ]
  },
  {
   "cell_type": "markdown",
   "id": "59f4e68e",
   "metadata": {},
   "source": [
    "## Conclusion"
   ]
  },
  {
   "cell_type": "markdown",
   "id": "fc556d9b",
   "metadata": {},
   "source": [
    "- In this customer churn prediction study, a comprehensive analysis of machine learning (ML) and deep learning (DL) models, including Logistic Regression, Support Vector Classifier (SVC), XGBClassifier, and a Forward Neural Network (FNN), was conducted. The goal was to discern the models' efficacy in handling imbalanced datasets, with a specific emphasis on accuracy and the area under the receiver operating characteristic curve (AUC).\n",
    "\n",
    "\n",
    "\n",
    "- **Hyperparameter Tuning for Imbalanced Datasets**:\n",
    "\n",
    "- To address the challenge posed by imbalanced data, hyperparameter tuning was applied across all models. The focus was on optimizing not only accuracy but also the F1 score, a crucial metric for imbalanced datasets. The tuning process aimed to strike a balance between effectively classifying both majority and minority classes.\n",
    "\n",
    "\n",
    "\n",
    "- **Model Performance Metrics**:\n",
    "After hyperparameter tuning, slight but significant differences in accuracy and AUC scores were observed among the selected models. It's noteworthy that accuracy alone is not a reliable metric for evaluating models dealing with imbalanced data. As anticipated, the ROC AUC scores emerged as more insightful indicators of the models' effectiveness in handling class imbalances.\n",
    "\n",
    "\n",
    "\n",
    "- **ROC AUC Scores**:\n",
    "The AUC scores revealed valuable insights into the models' performances. Logistic Regression and XGBClassifier demonstrated notable effectiveness with AUC scores of 0.86. The FNN closely followed with a commendable score of 0.84. However, the SVC model lagged slightly behind with an AUC score of 0.77, indicating potential challenges in handling imbalanced data compared to its counterparts.\n",
    "\n",
    "\n",
    "\n",
    "- **Neural Network Optimization**:\n",
    "The Forward Neural Network underwent a meticulous optimization process. Iteratively, the network architecture was refined from 2 to 6 hidden layers. The **learning rate** and the number of **epochs** were systematically adjusted, and the resultant changes in accuracy and loss were closely monitored. This step-by-step enhancement aimed to uncover the optimal configuration that maximizes predictive performance.\n",
    "\n",
    "\n",
    "- Further exploration is recommended to advance predictive capabilities for customer churn prediction in imbalanced datasets."
   ]
  },
  {
   "cell_type": "code",
   "execution_count": null,
   "id": "d65af615",
   "metadata": {},
   "outputs": [],
   "source": []
  }
 ],
 "metadata": {
  "kernelspec": {
   "display_name": "Python 3 (ipykernel)",
   "language": "python",
   "name": "python3"
  },
  "language_info": {
   "codemirror_mode": {
    "name": "ipython",
    "version": 3
   },
   "file_extension": ".py",
   "mimetype": "text/x-python",
   "name": "python",
   "nbconvert_exporter": "python",
   "pygments_lexer": "ipython3",
   "version": "3.10.12"
  }
 },
 "nbformat": 4,
 "nbformat_minor": 5
}
